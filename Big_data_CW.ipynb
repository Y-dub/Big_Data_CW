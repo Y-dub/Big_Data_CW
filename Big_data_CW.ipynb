{
 "cells": [
  {
   "cell_type": "code",
   "execution_count": null,
   "id": "48fb3869",
   "metadata": {},
   "outputs": [
    {
     "ename": "",
     "evalue": "",
     "output_type": "error",
     "traceback": [
      "\u001b[1;31mRunning cells with 'Python 3.13.1' requires the ipykernel package.\n",
      "\u001b[1;31m<a href='command:jupyter.createPythonEnvAndSelectController'>Create a Python Environment</a> with the required packages.\n",
      "\u001b[1;31mOr install 'ipykernel' using the command: '/opt/homebrew/bin/python3 -m pip install ipykernel -U --user --force-reinstall'"
     ]
    }
   ],
   "source": [
    "%pip uninstall pyspark"
   ]
  },
  {
   "cell_type": "code",
   "execution_count": 3,
   "id": "39f9a633",
   "metadata": {},
   "outputs": [
    {
     "name": "stderr",
     "output_type": "stream",
     "text": [
      "25/05/03 14:12:30 WARN TaskMemoryManager: Failed to allocate a page (67108864 bytes), try again.\n",
      "                                                                                \r"
     ]
    },
    {
     "name": "stdout",
     "output_type": "stream",
     "text": [
      "+-------+--------------+---------+----------+--------+----------+--------+-------------------------------------------------------------------+-------------------+--------+--------+-------------+------------------+\n",
      "|user_id|trajectory_id |latitude |longitude |altitude|date      |time    |file_path                                                          |timestamp          |zone_lat|zone_lon|timestamp_sec|prev_timestamp_sec|\n",
      "+-------+--------------+---------+----------+--------+----------+--------+-------------------------------------------------------------------+-------------------+--------+--------+-------------+------------------+\n",
      "|000    |20081027115449|39.994622|116.326757|492.0   |2008-10-27|11:54:49|file:///Users/ydub/Downloads/Data/000/Trajectory/20081027115449.plt|2008-10-27 11:54:49|39.99   |116.32  |1225108489   |NULL              |\n",
      "|000    |20081027115449|39.994622|116.326757|492.0   |2008-10-27|11:54:52|file:///Users/ydub/Downloads/Data/000/Trajectory/20081027115449.plt|2008-10-27 11:54:52|39.99   |116.32  |1225108492   |1225108489        |\n",
      "|000    |20081027115449|39.994614|116.326751|492.0   |2008-10-27|11:54:54|file:///Users/ydub/Downloads/Data/000/Trajectory/20081027115449.plt|2008-10-27 11:54:54|39.99   |116.32  |1225108494   |1225108492        |\n",
      "|000    |20081027115449|39.994602|116.326769|492.0   |2008-10-27|11:54:59|file:///Users/ydub/Downloads/Data/000/Trajectory/20081027115449.plt|2008-10-27 11:54:59|39.99   |116.32  |1225108499   |1225108494        |\n",
      "|000    |20081027115449|39.994599|116.326769|492.0   |2008-10-27|11:55:04|file:///Users/ydub/Downloads/Data/000/Trajectory/20081027115449.plt|2008-10-27 11:55:04|39.99   |116.32  |1225108504   |1225108499        |\n",
      "|000    |20081027115449|39.994599|116.326769|492.0   |2008-10-27|11:55:07|file:///Users/ydub/Downloads/Data/000/Trajectory/20081027115449.plt|2008-10-27 11:55:07|39.99   |116.32  |1225108507   |1225108504        |\n",
      "|000    |20081027115449|39.994601|116.326765|492.0   |2008-10-27|11:55:09|file:///Users/ydub/Downloads/Data/000/Trajectory/20081027115449.plt|2008-10-27 11:55:09|39.99   |116.32  |1225108509   |1225108507        |\n",
      "|000    |20081027115449|39.994584|116.326731|492.0   |2008-10-27|11:55:14|file:///Users/ydub/Downloads/Data/000/Trajectory/20081027115449.plt|2008-10-27 11:55:14|39.99   |116.32  |1225108514   |1225108509        |\n",
      "|000    |20081027115449|39.994593|116.326668|492.0   |2008-10-27|11:55:19|file:///Users/ydub/Downloads/Data/000/Trajectory/20081027115449.plt|2008-10-27 11:55:19|39.99   |116.32  |1225108519   |1225108514        |\n",
      "|000    |20081027115449|39.994564|116.326612|492.0   |2008-10-27|11:55:24|file:///Users/ydub/Downloads/Data/000/Trajectory/20081027115449.plt|2008-10-27 11:55:24|39.99   |116.32  |1225108524   |1225108519        |\n",
      "|000    |20081027115449|39.994549|116.326542|492.0   |2008-10-27|11:55:29|file:///Users/ydub/Downloads/Data/000/Trajectory/20081027115449.plt|2008-10-27 11:55:29|39.99   |116.32  |1225108529   |1225108524        |\n",
      "|000    |20081027115449|39.994551|116.32651 |493.0   |2008-10-27|11:55:34|file:///Users/ydub/Downloads/Data/000/Trajectory/20081027115449.plt|2008-10-27 11:55:34|39.99   |116.32  |1225108534   |1225108529        |\n",
      "|000    |20081027115449|39.994547|116.326425|494.0   |2008-10-27|11:55:39|file:///Users/ydub/Downloads/Data/000/Trajectory/20081027115449.plt|2008-10-27 11:55:39|39.99   |116.32  |1225108539   |1225108534        |\n",
      "|000    |20081027115449|39.994554|116.326341|494.0   |2008-10-27|11:55:44|file:///Users/ydub/Downloads/Data/000/Trajectory/20081027115449.plt|2008-10-27 11:55:44|39.99   |116.32  |1225108544   |1225108539        |\n",
      "|000    |20081027115449|39.994609|116.326361|495.0   |2008-10-27|11:55:49|file:///Users/ydub/Downloads/Data/000/Trajectory/20081027115449.plt|2008-10-27 11:55:49|39.99   |116.32  |1225108549   |1225108544        |\n",
      "|000    |20081027115449|39.994664|116.326391|496.0   |2008-10-27|11:55:54|file:///Users/ydub/Downloads/Data/000/Trajectory/20081027115449.plt|2008-10-27 11:55:54|39.99   |116.32  |1225108554   |1225108549        |\n",
      "|000    |20081027115449|39.994714|116.326453|498.0   |2008-10-27|11:55:59|file:///Users/ydub/Downloads/Data/000/Trajectory/20081027115449.plt|2008-10-27 11:55:59|39.99   |116.32  |1225108559   |1225108554        |\n",
      "|000    |20081027115449|39.99478 |116.326489|499.0   |2008-10-27|11:56:04|file:///Users/ydub/Downloads/Data/000/Trajectory/20081027115449.plt|2008-10-27 11:56:04|39.99   |116.32  |1225108564   |1225108559        |\n",
      "|000    |20081027115449|39.994849|116.32652 |500.0   |2008-10-27|11:56:09|file:///Users/ydub/Downloads/Data/000/Trajectory/20081027115449.plt|2008-10-27 11:56:09|39.99   |116.32  |1225108569   |1225108564        |\n",
      "|000    |20081027115449|39.994911|116.326568|501.0   |2008-10-27|11:56:14|file:///Users/ydub/Downloads/Data/000/Trajectory/20081027115449.plt|2008-10-27 11:56:14|39.99   |116.32  |1225108574   |1225108569        |\n",
      "+-------+--------------+---------+----------+--------+----------+--------+-------------------------------------------------------------------+-------------------+--------+--------+-------------+------------------+\n",
      "only showing top 20 rows\n",
      "\n"
     ]
    }
   ],
   "source": [
    "from pyspark.sql import SparkSession\n",
    "from pyspark.sql.functions import (\n",
    "    input_file_name, regexp_extract, split, col, row_number, monotonically_increasing_id,\n",
    "    concat_ws, to_timestamp, unix_timestamp, lag, floor, round\n",
    ")\n",
    "from pyspark.sql.window import Window\n",
    "\n",
    "# Step 1: Start Spark Session\n",
    "spark = SparkSession.builder.appName(\"GeolifeTrajectoryProcessing\").getOrCreate()\n",
    "\n",
    "# Step 2: Load all .plt files from nested directory structure\n",
    "# Example path: /path/to/Data/001/Trajectory/*.plt\n",
    "raw = spark.read.text(\"Data/*/Trajectory/*.plt\") \\\n",
    "         .withColumn(\"file_path\", input_file_name())\n",
    "\n",
    "# Step 3: Remove first 6 header lines from each .plt file using row_number windowing\n",
    "window_spec = Window.partitionBy(\"file_path\").orderBy(monotonically_increasing_id())\n",
    "filtered = raw.withColumn(\"row_num\", row_number().over(window_spec)) \\\n",
    "              .filter(col(\"row_num\") > 6)\n",
    "\n",
    "# Step 4: Extract user_id (from folder name) and trajectory_id (from file name)\n",
    "# Ensures we're extracting exactly the 3-digit folder directly after '/Data/'\n",
    "filtered = filtered.withColumn(\"user_id\", regexp_extract(col(\"file_path\"), r\"/Data/(\\d{3})/\", 1)) \\\n",
    "                   .withColumn(\"trajectory_id\", regexp_extract(col(\"file_path\"), r\"Trajectory/([0-9]+)\\.plt\", 1))\n",
    "\n",
    "# Step 5: Split each line into GPS fields\n",
    "split_df = filtered.withColumn(\"fields\", split(col(\"value\"), \",\"))\n",
    "\n",
    "# Step 6: Select and clean up structured columns\n",
    "df = split_df.select(\n",
    "    col(\"user_id\"),\n",
    "    col(\"trajectory_id\"),\n",
    "    col(\"fields\")[0].cast(\"double\").alias(\"latitude\"),\n",
    "    col(\"fields\")[1].cast(\"double\").alias(\"longitude\"),\n",
    "    col(\"fields\")[3].cast(\"double\").alias(\"altitude\"),\n",
    "    col(\"fields\")[5].alias(\"date\"),\n",
    "    col(\"fields\")[6].alias(\"time\"),\n",
    "    col(\"file_path\")\n",
    ")\n",
    "\n",
    "# Step 7: Combine date and time into a proper timestamp column\n",
    "df = df.withColumn(\"timestamp\", to_timestamp(concat_ws(' ', col(\"date\"), col(\"time\")), \"yyyy-MM-dd HH:mm:ss\"))\n",
    "\n",
    "# Step 8: Assign each point to a spatial zone using grid-based rounding (e.g., 0.01 degrees ~ 1km)\n",
    "grid_size = 0.01\n",
    "df = df.withColumn(\"zone_lat\", round(floor(col(\"latitude\") / grid_size) * grid_size, 2)) \\\n",
    "       .withColumn(\"zone_lon\", round(floor(col(\"longitude\") / grid_size) * grid_size, 2))\n",
    "\n",
    "# Step 9: Add Unix timestamp for time-based calculations\n",
    "df = df.withColumn(\"timestamp_sec\", unix_timestamp(\"timestamp\"))\n",
    "\n",
    "# Step 10: For resampling prep — compute previous timestamp in same trajectory\n",
    "trajectory_window = Window.partitionBy(\"user_id\", \"trajectory_id\").orderBy(\"timestamp\")\n",
    "df = df.withColumn(\"prev_timestamp_sec\", lag(\"timestamp_sec\", 1).over(trajectory_window))\n",
    "\n",
    "# Resample — Keep only points at least 10 seconds apart\n",
    "# df = df.filter((col(\"timestamp_sec\") - col(\"prev_timestamp_sec\") >= 10) | col(\"prev_timestamp_sec\").isNull())\n",
    "\n",
    "# Step 11: Show the processed results\n",
    "df.show(truncate=False)\n"
   ]
  },
  {
   "cell_type": "code",
   "execution_count": 6,
   "id": "9d9dc4b3",
   "metadata": {},
   "outputs": [
    {
     "name": "stderr",
     "output_type": "stream",
     "text": [
      "[Stage 15:====================================================>   (13 + 1) / 14]\r"
     ]
    },
    {
     "name": "stdout",
     "output_type": "stream",
     "text": [
      "+-------+--------------+---------+----------+--------+----------+--------+-------------------+--------+--------+-------------+------------------+------------+\n",
      "|user_id|trajectory_id |latitude |longitude |altitude|date      |time    |timestamp          |zone_lat|zone_lon|timestamp_sec|prev_timestamp_sec|zone_id     |\n",
      "+-------+--------------+---------+----------+--------+----------+--------+-------------------+--------+--------+-------------+------------------+------------+\n",
      "|000    |20081027115449|39.994622|116.326757|492.0   |2008-10-27|11:54:49|2008-10-27 11:54:49|39.99   |116.32  |1225108489   |NULL              |39.99_116.32|\n",
      "|000    |20081027115449|39.994622|116.326757|492.0   |2008-10-27|11:54:52|2008-10-27 11:54:52|39.99   |116.32  |1225108492   |1225108489        |39.99_116.32|\n",
      "|000    |20081027115449|39.994614|116.326751|492.0   |2008-10-27|11:54:54|2008-10-27 11:54:54|39.99   |116.32  |1225108494   |1225108492        |39.99_116.32|\n",
      "|000    |20081027115449|39.994602|116.326769|492.0   |2008-10-27|11:54:59|2008-10-27 11:54:59|39.99   |116.32  |1225108499   |1225108494        |39.99_116.32|\n",
      "|000    |20081027115449|39.994599|116.326769|492.0   |2008-10-27|11:55:04|2008-10-27 11:55:04|39.99   |116.32  |1225108504   |1225108499        |39.99_116.32|\n",
      "|000    |20081027115449|39.994599|116.326769|492.0   |2008-10-27|11:55:07|2008-10-27 11:55:07|39.99   |116.32  |1225108507   |1225108504        |39.99_116.32|\n",
      "|000    |20081027115449|39.994601|116.326765|492.0   |2008-10-27|11:55:09|2008-10-27 11:55:09|39.99   |116.32  |1225108509   |1225108507        |39.99_116.32|\n",
      "|000    |20081027115449|39.994584|116.326731|492.0   |2008-10-27|11:55:14|2008-10-27 11:55:14|39.99   |116.32  |1225108514   |1225108509        |39.99_116.32|\n",
      "|000    |20081027115449|39.994593|116.326668|492.0   |2008-10-27|11:55:19|2008-10-27 11:55:19|39.99   |116.32  |1225108519   |1225108514        |39.99_116.32|\n",
      "|000    |20081027115449|39.994564|116.326612|492.0   |2008-10-27|11:55:24|2008-10-27 11:55:24|39.99   |116.32  |1225108524   |1225108519        |39.99_116.32|\n",
      "|000    |20081027115449|39.994549|116.326542|492.0   |2008-10-27|11:55:29|2008-10-27 11:55:29|39.99   |116.32  |1225108529   |1225108524        |39.99_116.32|\n",
      "|000    |20081027115449|39.994551|116.32651 |493.0   |2008-10-27|11:55:34|2008-10-27 11:55:34|39.99   |116.32  |1225108534   |1225108529        |39.99_116.32|\n",
      "|000    |20081027115449|39.994547|116.326425|494.0   |2008-10-27|11:55:39|2008-10-27 11:55:39|39.99   |116.32  |1225108539   |1225108534        |39.99_116.32|\n",
      "|000    |20081027115449|39.994554|116.326341|494.0   |2008-10-27|11:55:44|2008-10-27 11:55:44|39.99   |116.32  |1225108544   |1225108539        |39.99_116.32|\n",
      "|000    |20081027115449|39.994609|116.326361|495.0   |2008-10-27|11:55:49|2008-10-27 11:55:49|39.99   |116.32  |1225108549   |1225108544        |39.99_116.32|\n",
      "|000    |20081027115449|39.994664|116.326391|496.0   |2008-10-27|11:55:54|2008-10-27 11:55:54|39.99   |116.32  |1225108554   |1225108549        |39.99_116.32|\n",
      "|000    |20081027115449|39.994714|116.326453|498.0   |2008-10-27|11:55:59|2008-10-27 11:55:59|39.99   |116.32  |1225108559   |1225108554        |39.99_116.32|\n",
      "|000    |20081027115449|39.99478 |116.326489|499.0   |2008-10-27|11:56:04|2008-10-27 11:56:04|39.99   |116.32  |1225108564   |1225108559        |39.99_116.32|\n",
      "|000    |20081027115449|39.994849|116.32652 |500.0   |2008-10-27|11:56:09|2008-10-27 11:56:09|39.99   |116.32  |1225108569   |1225108564        |39.99_116.32|\n",
      "|000    |20081027115449|39.994911|116.326568|501.0   |2008-10-27|11:56:14|2008-10-27 11:56:14|39.99   |116.32  |1225108574   |1225108569        |39.99_116.32|\n",
      "+-------+--------------+---------+----------+--------+----------+--------+-------------------+--------+--------+-------------+------------------+------------+\n",
      "only showing top 20 rows\n",
      "\n"
     ]
    },
    {
     "name": "stderr",
     "output_type": "stream",
     "text": [
      "\r\n",
      "                                                                                \r"
     ]
    }
   ],
   "source": [
    "# Drop file_path now that it's no longer needed\n",
    "df = df.drop(\"file_path\")\n",
    "\n",
    "df.show(truncate=False)"
   ]
  }
 ],
 "metadata": {
  "kernelspec": {
   "display_name": "Python 3",
   "language": "python",
   "name": "python3"
  },
  "language_info": {
   "codemirror_mode": {
    "name": "ipython",
    "version": 3
   },
   "file_extension": ".py",
   "mimetype": "text/x-python",
   "name": "python",
   "nbconvert_exporter": "python",
   "pygments_lexer": "ipython3",
   "version": "3.13.1"
  }
 },
 "nbformat": 4,
 "nbformat_minor": 5
}
